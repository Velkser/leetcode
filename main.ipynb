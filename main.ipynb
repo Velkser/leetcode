{
 "cells": [
  {
   "cell_type": "code",
   "execution_count": 1,
   "metadata": {},
   "outputs": [],
   "source": [
    "class Solution(object):\n",
    "    def divide(self, dividend, divisor):\n",
    "        \"\"\"\n",
    "        :type dividend: int\n",
    "        :type divisor: int\n",
    "        :rtype: int\n",
    "        \"\"\"\n",
    "        if dividend < -2147483648 or dividend > 2147483648 or divisor > 2147483648 or divisor < -2147483648: \n",
    "            return 0\n",
    "        oper = \"\"\n",
    "        if (dividend>= 0 and divisor >= 0) or (dividend < 0 and divisor < 0):\n",
    "            oper = \"+\"\n",
    "        else: oper  = \"-\"\n",
    "        \n",
    "        cnt = 0\n",
    "        while abs(dividend) >= abs(divisor):\n",
    "            dividend = abs(dividend) - abs(divisor)\n",
    "            cnt += 1\n",
    "        if oper == \"+\":\n",
    "            return cnt\n",
    "        else:\n",
    "            return -cnt"
   ]
  },
  {
   "cell_type": "code",
   "execution_count": 2,
   "metadata": {},
   "outputs": [
    {
     "data": {
      "text/plain": [
       "-3"
      ]
     },
     "execution_count": 2,
     "metadata": {},
     "output_type": "execute_result"
    }
   ],
   "source": [
    "s = Solution()\n",
    "s.divide(-10, 3)\n"
   ]
  }
 ],
 "metadata": {
  "kernelspec": {
   "display_name": "Python 3",
   "language": "python",
   "name": "python3"
  },
  "language_info": {
   "codemirror_mode": {
    "name": "ipython",
    "version": 3
   },
   "file_extension": ".py",
   "mimetype": "text/x-python",
   "name": "python",
   "nbconvert_exporter": "python",
   "pygments_lexer": "ipython3",
   "version": "3.10.2"
  }
 },
 "nbformat": 4,
 "nbformat_minor": 2
}
